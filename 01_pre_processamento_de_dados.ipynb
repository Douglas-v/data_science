{
 "cells": [
  {
   "cell_type": "markdown",
   "metadata": {},
   "source": [
    "Formação em ciência de dados, praticada pela IA-Labs. Abaixo detalha-se o passo a passo dos exercicios propostos pelo curso."
   ]
  },
  {
   "cell_type": "code",
   "execution_count": 26,
   "metadata": {},
   "outputs": [
    {
     "name": "stdout",
     "output_type": "stream",
     "text": [
      "\n",
      "criando matriz: \n",
      "(20640, 8)\n",
      "\n",
      "criando vetor de marcação (target em 1 dimensão): \n",
      "(20640,)\n"
     ]
    }
   ],
   "source": [
    "#Carregando dados de habitação via scikit-leanr\n",
    "#instalando a biblioteca scikit-learn via terminal por pip install\n",
    "#lendo a biblioteca\n",
    "from sklearn import datasets\n",
    "\n",
    "#lendo a biblioteca california\n",
    "california = datasets.fetch_california_housing()\n",
    "\n",
    "#criando a matriz\n",
    "matriz = california.data\n",
    "print()\n",
    "print(\"criando matriz: \")\n",
    "print(matriz.shape)\n",
    "\n",
    "#criando vetor de marcacao (target)\n",
    "vetor = california.target\n",
    "print()\n",
    "print(\"criando vetor de marcação (target em 1 dimensão): \")\n",
    "print(vetor.shape)\n",
    "\n"
   ]
  },
  {
   "cell_type": "code",
   "execution_count": 38,
   "metadata": {},
   "outputs": [
    {
     "name": "stdout",
     "output_type": "stream",
     "text": [
      "Recursos das 5 primeiras amostras\n",
      "   Recurso 1  Recurso 2  Recurso 3\n",
      "0  -0.648821  -1.343501  -0.198123\n",
      "1  -1.176160   0.817607   0.950856\n",
      "2  -0.062164   0.026815  -0.400970\n",
      "3  -0.556173   0.276793  -0.883273\n",
      "4  -0.346447  -0.112161  -0.473622\n",
      "----------------------------------------------------\n",
      "Saídas\n",
      "       Target\n",
      "0 -168.642327\n",
      "1   12.280254\n",
      "2   -5.362599\n",
      "3  -17.706965\n",
      "4  -36.952081\n",
      "----------------------------------------------------\n",
      "Coeficientes verdadeiros para gerar os dados\n",
      "   Coeficientes(verdadeiros)\n",
      "0                  62.750865\n",
      "1                  93.757786\n",
      "2                   9.915597\n"
     ]
    }
   ],
   "source": [
    "#Criando dados de regressão\n",
    "#lendo a biblioteca\n",
    "import pandas as pd\n",
    "from sklearn.datasets import make_regression\n",
    "\n",
    "#criando os dados simulados\n",
    "#gerando recursos, saidas e coeficientes para volume de 100 amostra\n",
    "#indicie dos dados: parametros da funcao: (sklearn.datasets: make_regression):\n",
    "    # 01 - n_samples: O número de amostras;\n",
    "    # 02 - n_features: O número de características;\n",
    "    # 03 - n_informative: O número de características informativas,ou seja, o número de características utilizadas para construir o modelo linear utilizado para gerar a saída;\n",
    "    # 04 - n_targets: O número de alvos de regressão, ou seja, a dimensãodo vetor y de saída associado a uma amostra. Por padrao,a saída é um escalar;\n",
    "    # 05 - noise: O desvio padrão do ruído gaussiano aplicado à saída;\n",
    "    # 06 - coef: Se Verdadeiro, os coeficientes do modelo linear subjacente são retornados.\n",
    "recursos, saida, coeficiente = make_regression(n_samples=100,\n",
    "                                               n_features=3,\n",
    "                                               n_informative=3,\n",
    "                                               n_targets=1,\n",
    "                                               noise=0.0,\n",
    "                                               coef=True)\n",
    "\n",
    "#exibir os dados simulados simulados\n",
    "#exibir 5 primeiros recursos\n",
    "print('Recursos das 5 primeiras amostras')\n",
    "print(pd.DataFrame(recursos, columns=[\"Recurso 1\", \"Recurso 2\", \"Recurso 3\"]).head())\n",
    "print(\"----------------------------------------------------\")\n",
    "\n",
    "#exibir 5 primeiras saidas\n",
    "print('Saídas')\n",
    "print(pd.DataFrame(saida, columns=[\"Target\"]).head())\n",
    "print(\"----------------------------------------------------\")\n",
    "\n",
    "#exibir coeficientes verdadeiros para gerar os dados\n",
    "print(\"Coeficientes verdadeiros para gerar os dados\")\n",
    "print(pd.DataFrame(coeficiente,columns=[\"Coeficientes(verdadeiros)\"]))\n",
    "\n"
   ]
  }
 ],
 "metadata": {
  "kernelspec": {
   "display_name": "Python 3",
   "language": "python",
   "name": "python3"
  },
  "language_info": {
   "codemirror_mode": {
    "name": "ipython",
    "version": 3
   },
   "file_extension": ".py",
   "mimetype": "text/x-python",
   "name": "python",
   "nbconvert_exporter": "python",
   "pygments_lexer": "ipython3",
   "version": "3.12.1"
  }
 },
 "nbformat": 4,
 "nbformat_minor": 2
}
