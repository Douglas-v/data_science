{
 "cells": [
  {
   "cell_type": "markdown",
   "metadata": {},
   "source": [
    "Formação em ciência de dados, praticada pela IA-Labs. Abaixo detalha-se o passo a passo dos exercicios propostos pelo curso."
   ]
  },
  {
   "cell_type": "code",
   "execution_count": 26,
   "metadata": {},
   "outputs": [
    {
     "name": "stdout",
     "output_type": "stream",
     "text": [
      "\n",
      "criando matriz: \n",
      "(20640, 8)\n",
      "\n",
      "criando vetor de marcação (target em 1 dimensão): \n",
      "(20640,)\n"
     ]
    }
   ],
   "source": [
    "#Carregando dados de habitação via scikit-leanr\n",
    "#instalando a biblioteca scikit-learn via terminal por pip install\n",
    "#lendo a biblioteca\n",
    "from sklearn import datasets\n",
    "\n",
    "#lendo a biblioteca california\n",
    "california = datasets.fetch_california_housing()\n",
    "\n",
    "#criando a matriz\n",
    "matriz = california.data\n",
    "print()\n",
    "print(\"criando matriz: \")\n",
    "print(matriz.shape)\n",
    "\n",
    "#criando vetor de marcacao (target)\n",
    "vetor = california.target\n",
    "print()\n",
    "print(\"criando vetor de marcação (target em 1 dimensão): \")\n",
    "print(vetor.shape)\n",
    "\n"
   ]
  },
  {
   "cell_type": "code",
   "execution_count": 38,
   "metadata": {},
   "outputs": [
    {
     "name": "stdout",
     "output_type": "stream",
     "text": [
      "Recursos das 5 primeiras amostras\n",
      "   Recurso 1  Recurso 2  Recurso 3\n",
      "0  -0.648821  -1.343501  -0.198123\n",
      "1  -1.176160   0.817607   0.950856\n",
      "2  -0.062164   0.026815  -0.400970\n",
      "3  -0.556173   0.276793  -0.883273\n",
      "4  -0.346447  -0.112161  -0.473622\n",
      "----------------------------------------------------\n",
      "Saídas\n",
      "       Target\n",
      "0 -168.642327\n",
      "1   12.280254\n",
      "2   -5.362599\n",
      "3  -17.706965\n",
      "4  -36.952081\n",
      "----------------------------------------------------\n",
      "Coeficientes verdadeiros para gerar os dados\n",
      "   Coeficientes(verdadeiros)\n",
      "0                  62.750865\n",
      "1                  93.757786\n",
      "2                   9.915597\n"
     ]
    }
   ],
   "source": [
    "#Criando dados de regressão\n",
    "#lendo a biblioteca\n",
    "import pandas as pd\n",
    "from sklearn.datasets import make_regression\n",
    "\n",
    "#criando os dados simulados\n",
    "#gerando recursos, saidas e coeficientes para volume de 100 amostra\n",
    "#indicie dos dados: parametros da funcao: (sklearn.datasets: make_regression):\n",
    "    # 01 - n_samples: O número de amostras;\n",
    "    # 02 - n_features: O número de características;\n",
    "    # 03 - n_informative: O número de características informativas,ou seja, o número de características utilizadas para construir o modelo linear utilizado para gerar a saída;\n",
    "    # 04 - n_targets: O número de alvos de regressão, ou seja, a dimensãodo vetor y de saída associado a uma amostra. Por padrao,a saída é um escalar;\n",
    "    # 05 - noise: O desvio padrão do ruído gaussiano aplicado à saída;\n",
    "    # 06 - coef: Se Verdadeiro, os coeficientes do modelo linear subjacente são retornados.\n",
    "recursos, saida, coeficiente = make_regression(n_samples=100,\n",
    "                                               n_features=3,\n",
    "                                               n_informative=3,\n",
    "                                               n_targets=1,\n",
    "                                               noise=0.0,\n",
    "                                               coef=True)\n",
    "\n",
    "#exibir os dados simulados simulados\n",
    "#exibir 5 primeiros recursos\n",
    "print('Recursos das 5 primeiras amostras')\n",
    "print(pd.DataFrame(recursos, columns=[\"Recurso 1\", \"Recurso 2\", \"Recurso 3\"]).head())\n",
    "print(\"----------------------------------------------------\")\n",
    "\n",
    "#exibir 5 primeiras saidas\n",
    "print('Saídas')\n",
    "print(pd.DataFrame(saida, columns=[\"Target\"]).head())\n",
    "print(\"----------------------------------------------------\")\n",
    "\n",
    "#exibir coeficientes verdadeiros para gerar os dados\n",
    "print(\"Coeficientes verdadeiros para gerar os dados\")\n",
    "print(pd.DataFrame(coeficiente,columns=[\"Coeficientes(verdadeiros)\"]))\n",
    "\n"
   ]
  },
  {
   "cell_type": "code",
   "execution_count": 6,
   "metadata": {},
   "outputs": [
    {
     "name": "stdout",
     "output_type": "stream",
     "text": [
      "\n",
      "Matriz de recursos: \n",
      "   Recurso 1  Recurso 2  Recurso 3  Recurso 4  Recurso 5  Recurso 6  \\\n",
      "0  -1.055375  -0.630192  -4.599300  -0.136870   1.915990   0.514562   \n",
      "1   1.266657  -0.373558  -1.040924   3.020855  -2.144302   3.368141   \n",
      "2   1.718926   1.267725  -2.810630  -1.978078   0.027960   0.852691   \n",
      "3   1.920187  -3.549378  -1.111491   2.014053   2.543545   1.023113   \n",
      "4   0.873451  -0.431966  -0.040095   1.842609  -0.156388  -0.290027   \n",
      "\n",
      "   Recurso 7  Recurso 8  Recurso 9  Recurso 10  \n",
      "0  -0.017473  -2.267231  -0.948683   -0.758616  \n",
      "1   3.192862   0.768289   1.696973   -2.485107  \n",
      "2  -2.543071   1.267908  -1.751478   -1.791075  \n",
      "3  -0.501359   0.860752  -0.026262    0.407443  \n",
      "4  -0.284908   0.575060   0.497532   -0.045564  \n",
      "\n",
      "Classes de observações (Target): \n",
      "   Classe de observações\n",
      "0                      1\n",
      "1                      2\n",
      "2                      2\n",
      "3                      1\n",
      "4                      2\n"
     ]
    }
   ],
   "source": [
    "#criando dados simulados para classificacao\n",
    "#lendo biblioteca\n",
    "from sklearn.datasets import make_classification\n",
    "import pandas as pd\n",
    "\n",
    "#criando dados simulados e matriz de recursos e vetor de saida com 100 exemplos\n",
    "#parametros da funcao:\n",
    "    #01 - n_samples: O numero de amostras;\n",
    "    #02 - n_features: O numero de caracteristicas;\n",
    "    #03 - n_informative: O numero de características informativas. Cada classe é composta por um número de clusters gaussianos, \n",
    "        # cada um localizado em torno dos vértices de um hipercubo num subespaço dedimensão \"n_informativa\". Para cada aglomerado, \n",
    "        # as características informativas são desenhadas independentemente de N(0, 1) e depois combinadas aleatoriamentede forma linear dentro de cada aglomerado, \n",
    "        # a fim de adicionar covariância. Os aglomerados são então colocados nos vértices do hipercubo;\n",
    "    #04 - n_redundant: O número de características redundantes. Estas características são geradas como combinações lineares aleatórias das características informativas;\n",
    "    #05 - n_classes: O número de classes (ou rótulos) do problema de classificação;\n",
    "    #06 - weights: As proporções das amostras atribuídas a cada classe. Se Nenhuma,então as classes são equilibradas. \n",
    "    #Note-se que se \"len(pesos) == n_classes - 1\",então o peso da última classe é automaticamente inferido. Mais do que \"n_samples\"podem ser devolvidas amostras \n",
    "         # se a soma dos \"weights\" (pesos) exceder 1.\n",
    "\n",
    "\n",
    "recursos, saida = make_classification(n_samples=100,\n",
    "                                      n_features=10,\n",
    "                                      n_informative=10,\n",
    "                                      n_redundant=0,\n",
    "                                      n_classes=3,\n",
    "                                      weights=[.2,.3,.8])\n",
    "print()\n",
    "\n",
    "#Exibir as 5 primeiras observações de todas as features (recursos)\n",
    "print(\"Matriz de recursos: \")\n",
    "print(pd.DataFrame(recursos, columns=['Recurso 1','Recurso 2','Recurso 3',\n",
    "                                      'Recurso 4','Recurso 5','Recurso 6',\n",
    "                                      'Recurso 7','Recurso 8','Recurso 9',\n",
    "                                      'Recurso 10']).head())\n",
    "print()\n",
    "\n",
    "\n",
    "#exibir as primeiras classes de observações\n",
    "print('Classes de observações (Target): ')\n",
    "print(pd.DataFrame(saida,columns=['Classe de observações']).head())\n"
   ]
  }
 ],
 "metadata": {
  "kernelspec": {
   "display_name": "Python 3",
   "language": "python",
   "name": "python3"
  },
  "language_info": {
   "codemirror_mode": {
    "name": "ipython",
    "version": 3
   },
   "file_extension": ".py",
   "mimetype": "text/x-python",
   "name": "python",
   "nbconvert_exporter": "python",
   "pygments_lexer": "ipython3",
   "version": "3.12.1"
  }
 },
 "nbformat": 4,
 "nbformat_minor": 2
}
